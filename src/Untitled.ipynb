{
 "cells": [
  {
   "cell_type": "code",
   "execution_count": 4,
   "id": "fc1645d8",
   "metadata": {
    "scrolled": true
   },
   "outputs": [],
   "source": [
    "import matplotlib.pyplot as plt\n",
    "from bs4 import BeautifulSoup\n",
    "\n",
    "with open('hotorunohikari.html') as f:\n",
    "    soup = BeautifulSoup(f.read(), 'lxml')\n",
    "\n",
    "tables = soup.find_all('table')\n",
    "spans = soup.find_all('span', class_=\"lln-word\")\n",
    "\n",
    "# %%\n",
    "word_set = {}\n",
    "for span in spans:\n",
    "    #    if \"with-translit\" in span['class']:\n",
    "    #    print(span[\"data-word-key\"])\n",
    "    if span[\"data-word-key\"] not in word_set:\n",
    "        word_set[span[\"data-word-key\"]] = 0\n",
    "    word_set[span[\"data-word-key\"]] += 1\n",
    "\n",
    "# %%\n",
    "iword_set = {}\n",
    "for k, v in word_set.items():\n",
    "    if v not in iword_set:\n",
    "        iword_set[v] = []\n",
    "    iword_set[v].append(k.split('|')[1])\n",
    "\n"
   ]
  },
  {
   "cell_type": "code",
   "execution_count": 24,
   "id": "a0c37522",
   "metadata": {},
   "outputs": [
    {
     "data": {
      "text/plain": [
       "480"
      ]
     },
     "execution_count": 24,
     "metadata": {},
     "output_type": "execute_result"
    }
   ],
   "source": [
    "x, y = [], []\n",
    "# %%\n",
    "for freq in sorted(iword_set, reverse=True):\n",
    "    if freq > 10:\n",
    "#         print(freq, len(iword_set[freq]))\n",
    "        x.append(freq)\n",
    "        y.append(len(iword_set[freq]))\n",
    "sum(y)"
   ]
  },
  {
   "cell_type": "code",
   "execution_count": 21,
   "id": "ff3b01bb",
   "metadata": {},
   "outputs": [
    {
     "data": {
      "text/plain": [
       "<matplotlib.collections.PathCollection at 0x7fc88d0268e0>"
      ]
     },
     "execution_count": 21,
     "metadata": {},
     "output_type": "execute_result"
    },
    {
     "data": {
      "image/png": "[encoded data removed]",
      "text/plain": [
       "<Figure size 432x288 with 1 Axes>"
      ]
     },
     "metadata": {
      "needs_background": "light"
     },
     "output_type": "display_data"
    }
   ],
   "source": [
    "plt.scatter(x, y)"
   ]
  },
  {
   "cell_type": "code",
   "execution_count": 22,
   "id": "ae7c7f80",
   "metadata": {},
   "outputs": [
    {
     "data": {
      "text/plain": [
       "(array([92., 16.,  7.,  3.,  6.,  1.,  2.,  0.,  2.,  1.]),\n",
       " array([  11. ,  196.8,  382.6,  568.4,  754.2,  940. , 1125.8, 1311.6,\n",
       "        1497.4, 1683.2, 1869. ]),\n",
       " <BarContainer object of 10 artists>)"
      ]
     },
     "execution_count": 22,
     "metadata": {},
     "output_type": "execute_result"
    },
    {
     "data": {
      "image/png": "[encoded data removed]",
      "text/plain": [
       "<Figure size 432x288 with 1 Axes>"
      ]
     },
     "metadata": {
      "needs_background": "light"
     },
     "output_type": "display_data"
    }
   ],
   "source": [
    "plt.hist(x)"
   ]
  },
  {
   "cell_type": "code",
   "execution_count": 19,
   "id": "6f01cb1d",
   "metadata": {},
   "outputs": [
    {
     "data": {
      "text/plain": [
       "[(1869, 1),\n",
       " (1571, 1),\n",
       " (1505, 1),\n",
       " (1270, 1),\n",
       " (1263, 1),\n",
       " (1045, 1),\n",
       " (910, 1),\n",
       " (896, 1),\n",
       " (842, 1),\n",
       " (827, 1),\n",
       " (804, 1),\n",
       " (757, 1),\n",
       " (634, 1),\n",
       " (580, 1),\n",
       " (574, 1),\n",
       " (548, 1),\n",
       " (518, 1),\n",
       " (514, 1),\n",
       " (494, 1),\n",
       " (472, 1),\n",
       " (445, 1),\n",
       " (387, 1),\n",
       " (382, 1),\n",
       " (351, 1),\n",
       " (301, 1),\n",
       " (296, 1),\n",
       " (293, 1),\n",
       " (292, 1),\n",
       " (282, 1),\n",
       " (272, 1),\n",
       " (270, 1),\n",
       " (264, 1),\n",
       " (256, 1),\n",
       " (246, 2),\n",
       " (231, 1),\n",
       " (212, 1),\n",
       " (207, 1),\n",
       " (202, 1),\n",
       " (195, 1),\n",
       " (187, 1),\n",
       " (183, 2),\n",
       " (173, 1),\n",
       " (171, 1),\n",
       " (154, 1),\n",
       " (145, 1),\n",
       " (142, 1),\n",
       " (136, 1),\n",
       " (135, 1),\n",
       " (128, 2),\n",
       " (125, 1),\n",
       " (124, 2),\n",
       " (123, 1),\n",
       " (120, 2),\n",
       " (117, 1),\n",
       " (114, 2),\n",
       " (112, 2),\n",
       " (111, 1),\n",
       " (109, 2),\n",
       " (105, 1),\n",
       " (102, 1),\n",
       " (99, 1),\n",
       " (97, 1),\n",
       " (94, 1),\n",
       " (89, 1),\n",
       " (85, 1),\n",
       " (84, 1),\n",
       " (83, 1),\n",
       " (81, 1),\n",
       " (78, 2),\n",
       " (77, 4),\n",
       " (75, 3),\n",
       " (74, 1),\n",
       " (73, 6),\n",
       " (72, 1),\n",
       " (71, 1),\n",
       " (68, 2),\n",
       " (67, 1),\n",
       " (64, 3),\n",
       " (63, 1),\n",
       " (62, 2),\n",
       " (61, 2),\n",
       " (60, 3),\n",
       " (59, 1),\n",
       " (58, 3),\n",
       " (57, 5),\n",
       " (56, 5),\n",
       " (55, 3),\n",
       " (53, 5),\n",
       " (52, 1),\n",
       " (51, 5),\n",
       " (50, 2),\n",
       " (49, 1),\n",
       " (48, 3),\n",
       " (47, 1),\n",
       " (46, 3),\n",
       " (45, 2),\n",
       " (44, 2),\n",
       " (43, 4),\n",
       " (42, 7),\n",
       " (41, 1),\n",
       " (40, 3),\n",
       " (39, 2),\n",
       " (38, 5),\n",
       " (37, 4),\n",
       " (36, 5),\n",
       " (35, 4),\n",
       " (34, 7),\n",
       " (33, 6),\n",
       " (32, 1),\n",
       " (31, 5),\n",
       " (30, 5),\n",
       " (29, 3),\n",
       " (28, 7),\n",
       " (27, 8),\n",
       " (26, 5),\n",
       " (25, 10),\n",
       " (24, 8),\n",
       " (23, 4),\n",
       " (22, 7),\n",
       " (21, 16),\n",
       " (20, 5),\n",
       " (19, 11),\n",
       " (18, 11),\n",
       " (17, 15),\n",
       " (16, 17),\n",
       " (15, 26),\n",
       " (14, 17),\n",
       " (13, 38),\n",
       " (12, 27),\n",
       " (11, 36),\n",
       " (10, 30),\n",
       " (9, 45),\n",
       " (8, 53),\n",
       " (7, 80),\n",
       " (6, 97),\n",
       " (5, 154),\n",
       " (4, 154),\n",
       " (3, 315),\n",
       " (2, 615),\n",
       " (1, 1637)]"
      ]
     },
     "execution_count": 19,
     "metadata": {},
     "output_type": "execute_result"
    }
   ],
   "source": [
    "list(zip(x,y))"
   ]
  }
 ],
 "metadata": {
  "kernelspec": {
   "display_name": "Python 3 (ipykernel)",
   "language": "python",
   "name": "python3"
  },
  "language_info": {
   "codemirror_mode": {
    "name": "ipython",
    "version": 3
   },
   "file_extension": ".py",
   "mimetype": "text/x-python",
   "name": "python",
   "nbconvert_exporter": "python",
   "pygments_lexer": "ipython3",
   "version": "3.8.10"
  }
 },
 "nbformat": 4,
 "nbformat_minor": 5
}
